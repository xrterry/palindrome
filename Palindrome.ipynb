{
 "cells": [],
 "metadata": {
  "kernelspec": {
   "name": "python3",
   "display_name": "Python 3",
   "language": "python"
  },
  "language_info": {
   "name": "python",
   "version": "3.6.10",
   "mimetype": "text/x-python",
   "codemirror_mode": {
    "name": "ipython",
    "version": 3
   },
   "pygments_lexer": "ipython3",
   "nbconvert_exporter": "python",
   "file_extension": ".py"
  },
  "pycharm": {
   "stem_cell": {
    "cell_type": "raw",
    "source": [
     "def isPalindrome (str):\n",
     "    return str == str [::-1]\n",
     "\n",
     "str = \"eevee\"\n",
     "ans = isPalindrome (str)\n",
     "\n",
     "if ans:\n",
     "    print (\"Yes\")\n",
     "else:\n",
     "    print (\"No\")\n"
    ],
    "metadata": {
     "collapsed": false
    }
   }
  }
 },
 "nbformat": 4,
 "nbformat_minor": 4
}